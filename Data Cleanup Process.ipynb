{
 "cells": [
  {
   "cell_type": "code",
   "execution_count": null,
   "metadata": {},
   "outputs": [],
   "source": [
    "#Data Cleanup\n",
    "\n",
    "#1. Started with a small API of just the Pacific North West\n",
    "#2. Had to expand our scope to the OBIS Seamap from Duke University that compiled logs from whale sightings across multiple datasets\n",
    "#3. Selected sea mammals to refine our search\n",
    "#4. Dropped columns that were not pertinent to our research (‘oid', 'datasets', 'geom_wkt', 'csquare’)\n",
    "#       4a. These columns identified dataset information that we did not require for our analysis\n",
    "#5. Dropped NaN values, so our data may be slightly misrepresented, but with how large the dataset is, we decided it was worth the risk\n",
    "#6. We refined our dataframe to only include sightings of one species vs. sightings of multiple species to get separate data to answer different questions\n",
    "#7. Because of the amount of data and sightings over time, we used a logrithmic scale for the y-axis to better display the data\n",
    "#8. We included the normal y-axis graph to show the difference in whale sightings over-time (The sudden increase in whale sightings could be due to conservation efforts and/or the use of technology to submit whale sightings progressed over time)"
   ]
  }
 ],
 "metadata": {
  "kernelspec": {
   "display_name": "Python [conda env:PythonData] *",
   "language": "python",
   "name": "conda-env-PythonData-py"
  },
  "language_info": {
   "codemirror_mode": {
    "name": "ipython",
    "version": 3
   },
   "file_extension": ".py",
   "mimetype": "text/x-python",
   "name": "python",
   "nbconvert_exporter": "python",
   "pygments_lexer": "ipython3",
   "version": "3.6.10"
  }
 },
 "nbformat": 4,
 "nbformat_minor": 4
}
